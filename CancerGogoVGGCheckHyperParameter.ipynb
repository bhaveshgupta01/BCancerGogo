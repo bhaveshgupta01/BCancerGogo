{
  "nbformat": 4,
  "nbformat_minor": 0,
  "metadata": {
    "colab": {
      "provenance": [],
      "mount_file_id": "1hvasKWGs30qXIHuEY-Ujh9uCrIV8tVLp",
      "authorship_tag": "ABX9TyM0OScxyRt7yQtF82cUHcUE",
      "include_colab_link": true
    },
    "kernelspec": {
      "name": "python3",
      "display_name": "Python 3"
    },
    "language_info": {
      "name": "python"
    }
  },
  "cells": [
    {
      "cell_type": "markdown",
      "metadata": {
        "id": "view-in-github",
        "colab_type": "text"
      },
      "source": [
        "<a href=\"https://colab.research.google.com/github/bhaveshgupta01/BCancerGogo/blob/main/CancerGogoVGGCheckHyperParameter.ipynb\" target=\"_parent\"><img src=\"https://colab.research.google.com/assets/colab-badge.svg\" alt=\"Open In Colab\"/></a>"
      ]
    },
    {
      "cell_type": "code",
      "source": [
        "!pip install keras-tuner\n"
      ],
      "metadata": {
        "colab": {
          "base_uri": "https://localhost:8080/",
          "height": 0
        },
        "id": "0xb5tV8sZfe3",
        "outputId": "a2d68eeb-55df-44f4-aab9-40b9d34da685"
      },
      "execution_count": 3,
      "outputs": [
        {
          "output_type": "stream",
          "name": "stdout",
          "text": [
            "Collecting keras-tuner\n",
            "  Downloading keras_tuner-1.4.6-py3-none-any.whl (128 kB)\n",
            "\u001b[?25l     \u001b[90m━━━━━━━━━━━━━━━━━━━━━━━━━━━━━━━━━━━━━━━━\u001b[0m \u001b[32m0.0/128.9 kB\u001b[0m \u001b[31m?\u001b[0m eta \u001b[36m-:--:--\u001b[0m\r\u001b[2K     \u001b[91m━━━━━━━━━━━━\u001b[0m\u001b[91m╸\u001b[0m\u001b[90m━━━━━━━━━━━━━━━━━━━━━━━━━━━\u001b[0m \u001b[32m41.0/128.9 kB\u001b[0m \u001b[31m945.0 kB/s\u001b[0m eta \u001b[36m0:00:01\u001b[0m\r\u001b[2K     \u001b[91m━━━━━━━━━━━━━━━━━━━━━━━━━━━━\u001b[0m\u001b[91m╸\u001b[0m\u001b[90m━━━━━━━━━━━\u001b[0m \u001b[32m92.2/128.9 kB\u001b[0m \u001b[31m1.2 MB/s\u001b[0m eta \u001b[36m0:00:01\u001b[0m\r\u001b[2K     \u001b[90m━━━━━━━━━━━━━━━━━━━━━━━━━━━━━━━━━━━━━━━━\u001b[0m \u001b[32m128.9/128.9 kB\u001b[0m \u001b[31m1.4 MB/s\u001b[0m eta \u001b[36m0:00:00\u001b[0m\n",
            "\u001b[?25hRequirement already satisfied: keras in /usr/local/lib/python3.10/dist-packages (from keras-tuner) (2.14.0)\n",
            "Requirement already satisfied: packaging in /usr/local/lib/python3.10/dist-packages (from keras-tuner) (23.2)\n",
            "Requirement already satisfied: requests in /usr/local/lib/python3.10/dist-packages (from keras-tuner) (2.31.0)\n",
            "Collecting kt-legacy (from keras-tuner)\n",
            "  Downloading kt_legacy-1.0.5-py3-none-any.whl (9.6 kB)\n",
            "Requirement already satisfied: charset-normalizer<4,>=2 in /usr/local/lib/python3.10/dist-packages (from requests->keras-tuner) (3.3.2)\n",
            "Requirement already satisfied: idna<4,>=2.5 in /usr/local/lib/python3.10/dist-packages (from requests->keras-tuner) (3.6)\n",
            "Requirement already satisfied: urllib3<3,>=1.21.1 in /usr/local/lib/python3.10/dist-packages (from requests->keras-tuner) (2.0.7)\n",
            "Requirement already satisfied: certifi>=2017.4.17 in /usr/local/lib/python3.10/dist-packages (from requests->keras-tuner) (2023.11.17)\n",
            "Installing collected packages: kt-legacy, keras-tuner\n",
            "Successfully installed keras-tuner-1.4.6 kt-legacy-1.0.5\n"
          ]
        }
      ]
    },
    {
      "cell_type": "code",
      "source": [
        "from google.colab import drive\n",
        "drive.mount('/content/drive')"
      ],
      "metadata": {
        "colab": {
          "base_uri": "https://localhost:8080/"
        },
        "id": "m-9nF_JHQOwo",
        "outputId": "de93d9a5-91df-4f3a-e503-739a75e6465f"
      },
      "execution_count": null,
      "outputs": [
        {
          "output_type": "stream",
          "name": "stdout",
          "text": [
            "Mounted at /content/drive\n"
          ]
        }
      ]
    },
    {
      "cell_type": "code",
      "source": [
        "data_dir = '/content/drive/MyDrive/MIASUnited'\n"
      ],
      "metadata": {
        "id": "wyyHqo1b4cYK"
      },
      "execution_count": null,
      "outputs": []
    },
    {
      "cell_type": "code",
      "source": [
        "import os\n",
        "\n",
        "def rename_images(root_dir):\n",
        "    # Iterate through each subdirectory in the root directory\n",
        "    for subdir in os.listdir(root_dir):\n",
        "        subdir_path = os.path.join(root_dir, subdir)\n",
        "\n",
        "        # Check if it's a directory\n",
        "        if os.path.isdir(subdir_path):\n",
        "            # Get a list of image files in the subdirectory\n",
        "            image_files = [f for f in os.listdir(subdir_path) if f.lower().endswith(('.jpg', '.jpeg', '.png', '.gif', '.bmp'))]\n",
        "\n",
        "            # Rename each image in the subdirectory\n",
        "            for i, image_file in enumerate(image_files, start=1):\n",
        "                old_path = os.path.join(subdir_path, image_file)\n",
        "                new_name = f\"{subdir}_{i:03d}.jpg\"  # Adjust the format as needed\n",
        "                new_path = os.path.join(subdir_path, new_name)\n",
        "\n",
        "                # Rename the image file\n",
        "                os.rename(old_path, new_path)\n",
        "                print(f\"Renamed: {old_path} -> {new_path}\")\n",
        "\n",
        "# Replace 'your_root_directory' with the actual root directory containing subdirectories\n",
        "rename_images('/content/drive/MyDrive/MIASUnited')"
      ],
      "metadata": {
        "id": "UxhQba1s6tEO"
      },
      "execution_count": 4,
      "outputs": []
    },
    {
      "cell_type": "code",
      "execution_count": 5,
      "metadata": {
        "colab": {
          "base_uri": "https://localhost:8080/",
          "height": 0
        },
        "id": "-SAGeXp6BzIn",
        "outputId": "becaf6da-9502-429c-e50b-9b6a4c59e39f"
      },
      "outputs": [
        {
          "output_type": "stream",
          "name": "stdout",
          "text": [
            "Trial 3 Complete [00h 22m 40s]\n",
            "val_accuracy: 0.8928571343421936\n",
            "\n",
            "Best val_accuracy So Far: 0.9464285969734192\n",
            "Total elapsed time: 01h 02m 37s\n",
            "Best Hyperparameters:  {'learning_rate': 0.001}\n"
          ]
        }
      ],
      "source": [
        "import tensorflow as tf\n",
        "from tensorflow.keras.preprocessing.image import ImageDataGenerator\n",
        "from tensorflow.keras.applications import VGG16\n",
        "from tensorflow.keras import layers, models\n",
        "from sklearn.model_selection import StratifiedKFold\n",
        "from kerastuner.tuners import RandomSearch\n",
        "\n",
        "# Define paths to your dataset\n",
        "data_dir = '/content/drive/MyDrive/MIASUnited'\n",
        "\n",
        "# Image dimensions and batch size\n",
        "img_width, img_height = 224, 224\n",
        "batch_size = 32\n",
        "\n",
        "# Data augmentation for training set\n",
        "train_datagen = ImageDataGenerator(\n",
        "    rescale=1.0 / 255,\n",
        "    shear_range=0.2,\n",
        "    zoom_range=0.2,\n",
        "    horizontal_flip=True,\n",
        ")\n",
        "\n",
        "# Only rescaling for testing set\n",
        "test_datagen = ImageDataGenerator(rescale=1.0 / 255)\n",
        "\n",
        "# Load and augment data\n",
        "datagen = train_datagen.flow_from_directory(\n",
        "    data_dir,\n",
        "    target_size=(img_width, img_height),\n",
        "    batch_size=batch_size,\n",
        "    class_mode='binary',\n",
        ")\n",
        "\n",
        "# Define the base model (VGG16 without top layers)\n",
        "base_model = VGG16(weights='imagenet', include_top=False, input_shape=(img_width, img_height, 3))\n",
        "\n",
        "# Freeze the layers\n",
        "for layer in base_model.layers:\n",
        "    layer.trainable = False\n",
        "\n",
        "# Custom model for breast cancer detection\n",
        "def build_model(hp):\n",
        "    model = models.Sequential()\n",
        "    model.add(base_model)\n",
        "    model.add(layers.Flatten())\n",
        "    model.add(layers.Dense(256, activation='relu'))\n",
        "    model.add(layers.Dense(1, activation='sigmoid'))\n",
        "\n",
        "    model.compile(\n",
        "        optimizer=tf.keras.optimizers.Adam(learning_rate=hp.Choice('learning_rate', values=[1e-2, 1e-3, 1e-4])),\n",
        "        loss='binary_crossentropy',\n",
        "        metrics=['accuracy']\n",
        "    )\n",
        "\n",
        "    return model\n",
        "\n",
        "# K-Fold cross-validation\n",
        "skf = StratifiedKFold(n_splits=5, shuffle=True, random_state=42)\n",
        "\n",
        "# RandomSearch with K-Fold cross-validation using keras-tuner\n",
        "tuner = RandomSearch(\n",
        "    build_model,\n",
        "    objective='val_accuracy',\n",
        "    max_trials=5,  # Adjust the number of trials\n",
        "    directory='tuner_results',\n",
        "    project_name='breast_cancer_detection'\n",
        ")\n",
        "\n",
        "# Search for the best hyperparameters\n",
        "tuner.search(datagen, epochs=10, validation_data=datagen, steps_per_epoch=len(datagen), verbose=1)\n",
        "\n",
        "# Get the best hyperparameters\n",
        "best_hps = tuner.oracle.get_best_trials(num_trials=1)[0].hyperparameters.values\n",
        "print(\"Best Hyperparameters: \", best_hps)\n"
      ]
    }
  ]
}